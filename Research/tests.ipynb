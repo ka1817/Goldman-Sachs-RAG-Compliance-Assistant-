{
 "cells": [
  {
   "cell_type": "code",
   "execution_count": 1,
   "metadata": {},
   "outputs": [
    {
     "data": {
      "text/plain": [
       "True"
      ]
     },
     "execution_count": 1,
     "metadata": {},
     "output_type": "execute_result"
    }
   ],
   "source": [
    "from dotenv import load_dotenv\n",
    "load_dotenv()"
   ]
  },
  {
   "cell_type": "markdown",
   "metadata": {},
   "source": [
    "Loading the data"
   ]
  },
  {
   "cell_type": "code",
   "execution_count": null,
   "metadata": {},
   "outputs": [],
   "source": [
    "from langchain_groq import ChatGroq  \n",
    "from langchain.document_loaders import DirectoryLoader \n",
    "from langchain.document_loaders import PyPDFLoader \n",
    "data_folder = \"../data\"  \n",
    "\n",
    "loader = DirectoryLoader(data_folder, glob=\"*.pdf\", loader_cls=PyPDFLoader)\n",
    "documents = loader.load()\n"
   ]
  },
  {
   "cell_type": "code",
   "execution_count": 11,
   "metadata": {},
   "outputs": [
    {
     "name": "stdout",
     "output_type": "stream",
     "text": [
      "Loaded 106 documents.\n",
      "2021\n",
      "Code of Business \n",
      "Conduct and Ethics\n"
     ]
    }
   ],
   "source": [
    "print(f\"Loaded {len(documents)} documents.\")\n",
    "print(documents[0].page_content[:500])  "
   ]
  },
  {
   "cell_type": "code",
   "execution_count": 9,
   "metadata": {},
   "outputs": [
    {
     "data": {
      "text/plain": [
       "106"
      ]
     },
     "execution_count": 9,
     "metadata": {},
     "output_type": "execute_result"
    }
   ],
   "source": [
    "len(documents)"
   ]
  },
  {
   "cell_type": "markdown",
   "metadata": {},
   "source": [
    "Chunking"
   ]
  },
  {
   "cell_type": "code",
   "execution_count": 12,
   "metadata": {},
   "outputs": [],
   "source": [
    "from langchain.text_splitter import RecursiveCharacterTextSplitter \n",
    "text_splitter=RecursiveCharacterTextSplitter(chunk_size=1500,chunk_overlap=200)"
   ]
  },
  {
   "cell_type": "code",
   "execution_count": 13,
   "metadata": {},
   "outputs": [],
   "source": [
    "chunks=text_splitter.split_documents(documents)"
   ]
  },
  {
   "cell_type": "code",
   "execution_count": 14,
   "metadata": {},
   "outputs": [
    {
     "data": {
      "text/plain": [
       "221"
      ]
     },
     "execution_count": 14,
     "metadata": {},
     "output_type": "execute_result"
    }
   ],
   "source": [
    "len(chunks)"
   ]
  },
  {
   "cell_type": "markdown",
   "metadata": {},
   "source": [
    "Embedding"
   ]
  },
  {
   "cell_type": "code",
   "execution_count": 19,
   "metadata": {},
   "outputs": [
    {
     "name": "stdout",
     "output_type": "stream",
     "text": [
      "Embedding Vector Size: 768\n",
      "Sample Vector: [0.024842817336320877, 0.08980801701545715, 0.01351351197808981, 0.01878681778907776, -0.03634510189294815]\n"
     ]
    }
   ],
   "source": [
    "from langchain_huggingface import HuggingFaceEmbeddings\n",
    "\n",
    "embeddings = HuggingFaceEmbeddings(model_name=\"sentence-transformers/all-mpnet-base-v2\")\n",
    "\n",
    "text = \"Goldman Sachs Code of Business Conduct and Ethics\"\n",
    "vector = embeddings.embed_query(text)\n",
    "\n",
    "print(\"Embedding Vector Size:\", len(vector))  \n",
    "print(\"Sample Vector:\", vector[:5])  \n"
   ]
  },
  {
   "cell_type": "code",
   "execution_count": 26,
   "metadata": {},
   "outputs": [],
   "source": [
    "from langchain.vectorstores import FAISS\n",
    "faiss_index=FAISS.from_documents(chunks,embeddings)"
   ]
  },
  {
   "cell_type": "code",
   "execution_count": 27,
   "metadata": {},
   "outputs": [
    {
     "name": "stdout",
     "output_type": "stream",
     "text": [
      "FAISS index saved successfully!\n"
     ]
    }
   ],
   "source": [
    "# Save FAISS index\n",
    "faiss_index.save_local(\"faiss_index\")\n",
    "\n",
    "print(\"FAISS index saved successfully!\")\n"
   ]
  },
  {
   "cell_type": "code",
   "execution_count": 29,
   "metadata": {},
   "outputs": [
    {
     "name": "stdout",
     "output_type": "stream",
     "text": [
      "\n",
      "🔹 Result 1:\n",
      "20011456.3.BUSINESS\n",
      "GOLDMAN SACHS BDC, INC.\n",
      "CODE OF BUSINESS CONDUCT AND ETHICS\n",
      "Preamble\n",
      "Pursuant to Section 406 of the Sarbanes-Oxley Act of 2002, the Securities and Exchange Commission (the\n",
      "“SEC”) has adopted rules requiring annual disclosure of an investment company’s code of ethics applicable\n",
      "to its principal executive, principal financial and principal accounting officers (the “Covered Officers”).\n",
      "Pursuant to Section 303A.10 of the NYSE Listed Company Manual, the New York Stock Exchange, LL...\n",
      "---\n",
      "\n",
      "🔹 Result 2:\n",
      "Goldman Sachs 3\n",
      "04Our Shared Commitment to Integrity\n",
      "05Our Core Values\n",
      "06Raising Concerns and Reporting Issues\n",
      "16Our Firm\n",
      "25Special Goldman Sachs  \n",
      "Bank-Related Considerations\n",
      "18Anti-Bribery and Anti-Corruption\n",
      "17Three Lines of Defense\n",
      "19Anti-Money Laundering\n",
      "20Sanctions\n",
      "21Privacy and Data Protection\n",
      "23Personal Trading\n",
      "24Anti-Tying\n",
      "24Recordkeeping and Reporting\n",
      "23Antitrust\n",
      "22Artificial Intelligence\n",
      "35Human Rights, Sustainability, \n",
      "and Inclusive Growth\n",
      "36Charitable Contributions\n",
      "36Political Contr...\n",
      "---\n",
      "\n",
      "🔹 Result 3:\n",
      "Goldman Sachs 4\n",
      "Our culture belongs to our people. It is our words, our deeds, and our \n",
      "decisions that determine not only what Goldman Sachs is today, but \n",
      "also what we will become tomorrow. It is ours to protect and enhance.\n",
      "This Code outlines the policies and practices \n",
      "that define who we are and what we \n",
      "stand for as a firm. It was created with our \n",
      "people in mind, providing clear direction \n",
      "and practical information that enable every \n",
      "Goldman Sachs colleague to cultivate a sense \n",
      "of shared r...\n",
      "---\n"
     ]
    }
   ],
   "source": [
    "# Load FAISS index\n",
    "faiss_index = FAISS.load_local(\"faiss_index\", embeddings,allow_dangerous_deserialization=True)\n",
    "\n",
    "# Search for similar content\n",
    "query = \"Goldman Sachs business ethics policies\"\n",
    "results = faiss_index.similarity_search(query, k=3)  # Retrieve top 3 similar chunks\n",
    "\n",
    "# Print results\n",
    "for i, doc in enumerate(results):\n",
    "    print(f\"\\n🔹 Result {i+1}:\\n{doc.page_content[:500]}...\\n---\")\n"
   ]
  },
  {
   "cell_type": "markdown",
   "metadata": {},
   "source": [
    "Model"
   ]
  },
  {
   "cell_type": "code",
   "execution_count": 55,
   "metadata": {},
   "outputs": [],
   "source": [
    "import os\n",
    "GROQ_API_KEY=os.getenv('GROQ_API_KEY')"
   ]
  },
  {
   "cell_type": "code",
   "execution_count": 56,
   "metadata": {},
   "outputs": [],
   "source": [
    "from langchain_groq import ChatGroq \n",
    "llm=ChatGroq(api_key=GROQ_API_KEY,model='llama-3.3-70b-versatile')"
   ]
  },
  {
   "cell_type": "code",
   "execution_count": 57,
   "metadata": {},
   "outputs": [],
   "source": [
    "##example \n",
    "response=llm.invoke(\"what is goldman scahes polocies\")"
   ]
  },
  {
   "cell_type": "code",
   "execution_count": 58,
   "metadata": {},
   "outputs": [
    {
     "data": {
      "text/plain": [
       "\"Goldman Sachs is a multinational investment bank and financial services company. As such, it has various policies in place to guide its operations, manage risk, and ensure compliance with regulatory requirements. Here are some of the key policies at Goldman Sachs:\\n\\n1. **Code of Conduct**: Goldman Sachs has a Code of Conduct that outlines the company's expectations for employee behavior and decision-making. The code emphasizes the importance of integrity, honesty, and respect for others.\\n2. **Risk Management Policy**: Goldman Sachs has a risk management policy that aims to identify, assess, and mitigate potential risks to the company. This includes credit risk, market risk, operational risk, and reputational risk.\\n3. **Compliance Policy**: Goldman Sachs has a compliance policy that ensures the company adheres to all relevant laws, regulations, and industry standards. This includes policies related to anti-money laundering, know-your-customer, and securities trading.\\n4. **Diversity and Inclusion Policy**: Goldman Sachs has a diversity and inclusion policy that aims to create a workplace culture that values diversity, promotes inclusion, and supports equal opportunities for all employees.\\n5. **Sustainability Policy**: Goldman Sachs has a sustainability policy that outlines the company's commitment to environmental sustainability, social responsibility, and governance (ESG). This includes initiatives to reduce the company's carbon footprint, promote sustainable investing, and support community development projects.\\n6. **Data Protection Policy**: Goldman Sachs has a data protection policy that ensures the company protects the confidentiality, integrity, and availability of client and employee data.\\n7. **Conflicts of Interest Policy**: Goldman Sachs has a conflicts of interest policy that aims to identify, manage, and mitigate potential conflicts of interest that may arise in the course of the company's business.\\n8. **Insider Trading Policy**: Goldman Sachs has an insider trading policy that prohibits employees from trading on material non-public information and ensures that all trading activities are conducted in accordance with applicable laws and regulations.\\n9. **Whistleblower Policy**: Goldman Sachs has a whistleblower policy that allows employees to report suspected misconduct or unethical behavior without fear of retaliation.\\n10. **Business Continuity Policy**: Goldman Sachs has a business continuity policy that ensures the company can respond to and recover from disruptions to its operations, including natural disasters, cyber attacks, and other crises.\\n\\nSome specific policies related to Goldman Sachs' business operations include:\\n\\n* **Trading policies**: Goldman Sachs has policies related to trading activities, including rules for trading on margin, short selling, and position limits.\\n* **Investment banking policies**: Goldman Sachs has policies related to investment banking activities, including rules for managing conflicts of interest, conducting due diligence, and advising clients.\\n* **Asset management policies**: Goldman Sachs has policies related to asset management activities, including rules for managing client portfolios, conducting research, and selecting investments.\\n\\nThese policies are subject to change and may not be exhaustive. Additionally, Goldman Sachs may have other policies in place that are not publicly disclosed.\""
      ]
     },
     "execution_count": 58,
     "metadata": {},
     "output_type": "execute_result"
    }
   ],
   "source": [
    "response.content"
   ]
  },
  {
   "cell_type": "code",
   "execution_count": 67,
   "metadata": {},
   "outputs": [
    {
     "name": "stdout",
     "output_type": "stream",
     "text": [
      "✅ RAG Support Bot PromptTemplate Ready!\n"
     ]
    }
   ],
   "source": [
    "from langchain.prompts import PromptTemplate\n",
    "\n",
    "rag_prompt = PromptTemplate(\n",
    "    input_variables=[\"context\", \"question\"],\n",
    "    template=\"\"\"You are a helpful AI support assistant for Goldman Sachs, providing accurate and reliable information \n",
    "based only on the retrieved document excerpts below. Always ensure compliance, transparency, and professionalism. \n",
    "Do not make up answers. If the answer is not found in the provided context, state that clearly.\n",
    "\n",
    "---\n",
    "Context:\n",
    "{context}\n",
    "---\n",
    "\n",
    "User Query: {question}\n",
    "\n",
    "Guidelines:\n",
    "1. Use only the context provided. Do NOT generate unsupported information.\n",
    "2. Be concise and professional in your response.\n",
    "3. If the answer is unclear or unavailable in the context, respond with:\n",
    "   \"I'm sorry, but I couldn't find relevant information in the retrieved documents.\"\n",
    "4. Maintain a neutral and compliant tone, as this is an official support system.\n",
    "\n",
    "Answer:\n",
    "\"\"\"\n",
    ")\n",
    "\n",
    "print(\"✅ RAG Support Bot PromptTemplate Ready!\")\n"
   ]
  },
  {
   "cell_type": "code",
   "execution_count": 68,
   "metadata": {},
   "outputs": [],
   "source": [
    "retriever = faiss_index.as_retriever(search_kwargs={\"k\": 10})  # Retrieve top 3 most relevant chunks\n"
   ]
  },
  {
   "cell_type": "code",
   "execution_count": 69,
   "metadata": {},
   "outputs": [],
   "source": [
    "from langchain.chains import RetrievalQA\n",
    "qa_chain = RetrievalQA.from_chain_type(\n",
    "    llm=llm,\n",
    "    chain_type=\"stuff\",  # \"stuff\" places all retrieved text into {context}\n",
    "    retriever=retriever,\n",
    "    chain_type_kwargs={\"prompt\": rag_prompt}\n",
    ")\n"
   ]
  },
  {
   "cell_type": "code",
   "execution_count": 70,
   "metadata": {},
   "outputs": [
    {
     "name": "stdout",
     "output_type": "stream",
     "text": [
      "\n",
      "🔹 AI Support Response:\n",
      " The provided context discusses the Code of Business Conduct and Ethics, which includes guidelines for ethical trading. According to the context, Covered Persons may not individually engage in certain transactions, such as the purchase or sale of securities or other property, with the Company. The compliance programs and procedures of the Company and its investment adviser and distributor are designed to prevent, or identify and correct, violations of these provisions.\n",
      "\n",
      "Additionally, the context mentions that Goldman Sachs is committed to ensuring compliance with relevant market conduct laws and has implemented policies and procedures to mitigate market conduct risks, including conduct and supervision, confidentiality and communication, market manipulation, collusion, conflicts of interest, and inappropriate sales practices.\n",
      "\n",
      "However, specific compliance policies for ethical trading are not explicitly outlined in the provided context. Therefore, I must respond with:\n",
      "\n",
      "I'm sorry, but I couldn't find relevant information in the retrieved documents.\n"
     ]
    }
   ],
   "source": [
    "# ✅ Test the RAG Pipeline\n",
    "query = \"What are the compliance policies for ethical trading?\"\n",
    "response = qa_chain.run(query)\n",
    "\n",
    "print(\"\\n🔹 AI Support Response:\\n\", response)\n"
   ]
  },
  {
   "cell_type": "markdown",
   "metadata": {},
   "source": [
    "Reranking"
   ]
  },
  {
   "cell_type": "code",
   "execution_count": 54,
   "metadata": {},
   "outputs": [],
   "source": [
    "from sentence_transformers import CrossEncoder\n",
    "reranker = CrossEncoder(\"cross-encoder/ms-marco-MiniLM-L-6-v2\")\n",
    "\n"
   ]
  },
  {
   "cell_type": "code",
   "execution_count": 71,
   "metadata": {},
   "outputs": [
    {
     "name": "stdout",
     "output_type": "stream",
     "text": [
      "\n",
      "🔹 Top Re-Ranked Documents:\n",
      "\n",
      "📜 Document 1:\n",
      "Covered Persons may not individually engage in certain transactions (such as the purchase or sale of\n",
      "securities or other property) with the Company. The compliance programs and procedures of the Company\n",
      "and its investment adviser and distributor (as applicable) are designed to prevent, or identify and correct,\n",
      "violations of these provisions. This Code does not, and is not intended to, repeat or replace these programs\n",
      "and procedures....\n",
      "--------------------------------------------------------------------------------\n",
      "📜 Document 2:\n",
      "Company;\n",
      "•compliance with applicable laws and governmental rules and regulations;\n",
      "•the prompt internal reporting of violations of this Code to an appropriate person or persons\n",
      "identified herein; and\n",
      "•accountability for adherence to this Code.\n",
      "Each Covered Person owes a duty to the Company to adhere to a high standard of business ethics, and\n",
      "should be sensitive to situations that may give rise to actual as well as apparent conflicts of interest. Each\n",
      "Covered Person should encourage his or her col...\n",
      "--------------------------------------------------------------------------------\n",
      "📜 Document 3:\n",
      "Firmwide Framework for \n",
      "Conduct Risk Management\n",
      "Resources\n",
      "Our Shared Commitment \n",
      "to Integrity\n",
      "Regardless of business line, country, or seniority, \n",
      "we expect everyone to not only comply with the \n",
      "laws and regulations governing our businesses, \n",
      "and follow our policies and procedures, but also to \n",
      "maintain the highest ethical standards and embody \n",
      "a strong risk and control culture in everything we \n",
      "do.\n",
      "The firm will take any disciplinary or preventative \n",
      "action deemed necessary and appropriate \n",
      "to ...\n",
      "--------------------------------------------------------------------------------\n",
      "📜 Document 4:\n",
      "20011456.3.BUSINESS\n",
      "GOLDMAN SACHS BDC, INC.\n",
      "CODE OF BUSINESS CONDUCT AND ETHICS\n",
      "Preamble\n",
      "Pursuant to Section 406 of the Sarbanes-Oxley Act of 2002, the Securities and Exchange Commission (the\n",
      "“SEC”) has adopted rules requiring annual disclosure of an investment company’s code of ethics applicable\n",
      "to its principal executive, principal financial and principal accounting officers (the “Covered Officers”).\n",
      "Pursuant to Section 303A.10 of the NYSE Listed Company Manual, the New York Stock Exchange, LL...\n",
      "--------------------------------------------------------------------------------\n",
      "📜 Document 5:\n",
      "EscalationOur People Our Firm Our Clients Our Communities\n",
      "Goldman Sachs 38\n",
      "Market \n",
      "Conduct Risk\n",
      "We have a shared responsibility to mitigate \n",
      "market conduct risk. Inappropriate market \n",
      "conduct can negatively impact the integrity of \n",
      "the markets and constitute a breach of the firm’s \n",
      "obligations to clients.\n",
      "Goldman Sachs is committed to ensuring \n",
      "compliance with relevant market conduct \n",
      "laws and has implemented policies and \n",
      "procedures to mitigate the following market \n",
      "conduct risks: conduct and s...\n",
      "--------------------------------------------------------------------------------\n",
      "\n",
      "💡 AI Answer: The compliance policies for ethical trading, as per the provided context, include:\n",
      "\n",
      "1. **Compliance with applicable laws and regulations**: The Company and its Covered Persons must comply with all applicable laws, rules, and regulations governing their businesses.\n",
      "2. **Conflict of interest provisions**: Covered Persons are prohibited from individually engaging in certain transactions, such as the purchase or sale of securities or other property, with the Company.\n",
      "3. **Market conduct risk policies**: The firm has implemented policies and procedures to mitigate market conduct risks, including conduct and supervision, confidentiality and communication, market manipulation, collusion, conflicts of interest, and inappropriate sales practices.\n",
      "4. **Reporting and accountability**: Covered Persons must report any violations of the Code, and the Company will investigate and enforce the Code through its Secretary and Board of Directors.\n",
      "5. **Internal reporting of violations**: Covered Persons must promptly report any violations of the Code to the Secretary of the Company.\n",
      "6. **Annual affirmation**: Covered Persons must annually affirm that they have complied with the requirements of the Code.\n",
      "7. **No retaliation**: Covered Persons must not retaliate against any person for reports of potential violations made in good faith.\n",
      "\n",
      "These policies aim to promote honest and ethical conduct, prevent conflicts of interest, and ensure compliance with applicable laws and regulations.\n"
     ]
    }
   ],
   "source": [
    "from sentence_transformers import CrossEncoder\n",
    "from langchain.chains.question_answering import load_qa_chain\n",
    "from langchain.schema import Document\n",
    "from typing import List\n",
    "\n",
    "# Step 1: Load Reranker Model\n",
    "reranker = CrossEncoder(\"cross-encoder/ms-marco-MiniLM-L-6-v2\")\n",
    "\n",
    "# Step 2: Function to Re-Rank Documents\n",
    "def rerank_documents(query: str, retrieved_docs: List[Document]) -> List[Document]:\n",
    "    \"\"\"Re-rank retrieved documents using a Cross-Encoder.\"\"\"\n",
    "    docs_texts = [doc.page_content for doc in retrieved_docs]\n",
    "    scores = reranker.predict([(query, doc) for doc in docs_texts])\n",
    "    \n",
    "    # Sort documents based on scores (highest first)\n",
    "    sorted_docs = [doc for _, doc in sorted(zip(scores, retrieved_docs), key=lambda x: x[0], reverse=True)]\n",
    "    return sorted_docs\n",
    "\n",
    "# Step 3: Query and Retrieve Documents (Initial Retrieval)\n",
    "query = \"What are the compliance policies for ethical trading?\"\n",
    "retrieved_docs = retriever.get_relevant_documents(query)  # Assumes `retriever` is defined\n",
    "\n",
    "# Step 4: Re-Rank Retrieved Documents\n",
    "reranked_docs = rerank_documents(query, retrieved_docs)  # Apply reranking\n",
    "\n",
    "# Step 5: Initialize GPT-4 LLM\n",
    "\n",
    "# Step 6: Load QA Chain Without Using a Retriever\n",
    "qa_chain = load_qa_chain(llm, chain_type=\"stuff\")\n",
    "\n",
    "# Step 7: Generate Answer Using Only Reranked Documents\n",
    "final_answer = qa_chain.run(input_documents=reranked_docs, question=query)\n",
    "\n",
    "# Step 8: Print Results\n",
    "print(\"\\n🔹 Top Re-Ranked Documents:\\n\")\n",
    "for i, doc in enumerate(reranked_docs[:5]):  # Show top 5 results\n",
    "    print(f\"📜 Document {i+1}:\\n{doc.page_content[:500]}...\\n{'-'*80}\")\n",
    "\n",
    "print(\"\\n💡 AI Answer:\", final_answer)\n"
   ]
  },
  {
   "cell_type": "code",
   "execution_count": 72,
   "metadata": {},
   "outputs": [
    {
     "data": {
      "text/plain": [
       "'The compliance policies for ethical trading, as per the provided context, include:\\n\\n1. **Compliance with applicable laws and regulations**: The Company and its Covered Persons must comply with all applicable laws, rules, and regulations governing their businesses.\\n2. **Conflict of interest provisions**: Covered Persons are prohibited from individually engaging in certain transactions, such as the purchase or sale of securities or other property, with the Company.\\n3. **Market conduct risk policies**: The firm has implemented policies and procedures to mitigate market conduct risks, including conduct and supervision, confidentiality and communication, market manipulation, collusion, conflicts of interest, and inappropriate sales practices.\\n4. **Reporting and accountability**: Covered Persons must report any violations of the Code, and the Company will investigate and enforce the Code through its Secretary and Board of Directors.\\n5. **Internal reporting of violations**: Covered Persons must promptly report any violations of the Code to the Secretary of the Company.\\n6. **Annual affirmation**: Covered Persons must annually affirm that they have complied with the requirements of the Code.\\n7. **No retaliation**: Covered Persons must not retaliate against any person for reports of potential violations made in good faith.\\n\\nThese policies aim to promote honest and ethical conduct, prevent conflicts of interest, and ensure compliance with applicable laws and regulations.'"
      ]
     },
     "execution_count": 72,
     "metadata": {},
     "output_type": "execute_result"
    }
   ],
   "source": [
    "final_answer"
   ]
  },
  {
   "cell_type": "markdown",
   "metadata": {},
   "source": [
    "Hybrid_search"
   ]
  },
  {
   "cell_type": "code",
   "execution_count": 75,
   "metadata": {},
   "outputs": [],
   "source": [
    "# ✅ Step 1: Load Retrievers (FAISS + BM25 Hybrid)\n",
    "from langchain_community.retrievers import BM25Retriever\n",
    "from langchain.retrievers import EnsembleRetriever\n",
    "\n",
    "retriever_dense = faiss_index.as_retriever(search_kwargs={\"k\": 10})  \n",
    "bm25_retriever = BM25Retriever.from_documents(chunks)\n",
    "\n",
    "hybrid_retriever = EnsembleRetriever(retrievers=[retriever_dense, bm25_retriever], weights=[0.5, 0.5])\n",
    "\n"
   ]
  },
  {
   "cell_type": "code",
   "execution_count": 76,
   "metadata": {},
   "outputs": [
    {
     "name": "stdout",
     "output_type": "stream",
     "text": [
      "\n",
      "🔹 Top Re-Ranked Documents:\n",
      "\n",
      "📜 Document 1:\n",
      "Covered Persons may not individually engage in certain transactions (such as the purchase or sale of\n",
      "securities or other property) with the Company. The compliance programs and procedures of the Company\n",
      "and its investment adviser and distributor (as applicable) are designed to prevent, or identify and correct,\n",
      "violations of these provisions. This Code does not, and is not intended to, repeat or replace these programs\n",
      "and procedures....\n",
      "--------------------------------------------------------------------------------\n",
      "📜 Document 2:\n",
      "Company;\n",
      "•compliance with applicable laws and governmental rules and regulations;\n",
      "•the prompt internal reporting of violations of this Code to an appropriate person or persons\n",
      "identified herein; and\n",
      "•accountability for adherence to this Code.\n",
      "Each Covered Person owes a duty to the Company to adhere to a high standard of business ethics, and\n",
      "should be sensitive to situations that may give rise to actual as well as apparent conflicts of interest. Each\n",
      "Covered Person should encourage his or her col...\n",
      "--------------------------------------------------------------------------------\n",
      "📜 Document 3:\n",
      "EscalationOur People Our Firm Our Clients Our Communities\n",
      "Goldman Sachs 14\n",
      "HCMforYou\n",
      "Firmwide Policy on \n",
      "Cooperation with the Firm\n",
      "Resources\n",
      "Resources\n",
      "What if one of my direct \n",
      "reports informed me of a \n",
      "potential violation of the Code?   \n",
      "Contact Compliance or Legal \n",
      "for guidance. You should not \n",
      "investigate the concern on your \n",
      "own.\n",
      "Duty to Cooperate\n",
      "Manager Expectations\n",
      "The firm regularly receives regulatory and administrative inquiries and may \n",
      "enter into litigation or conduct internal invest...\n",
      "--------------------------------------------------------------------------------\n",
      "📜 Document 4:\n",
      "Firmwide Framework for \n",
      "Conduct Risk Management\n",
      "Resources\n",
      "Our Shared Commitment \n",
      "to Integrity\n",
      "Regardless of business line, country, or seniority, \n",
      "we expect everyone to not only comply with the \n",
      "laws and regulations governing our businesses, \n",
      "and follow our policies and procedures, but also to \n",
      "maintain the highest ethical standards and embody \n",
      "a strong risk and control culture in everything we \n",
      "do.\n",
      "The firm will take any disciplinary or preventative \n",
      "action deemed necessary and appropriate \n",
      "to ...\n",
      "--------------------------------------------------------------------------------\n",
      "📜 Document 5:\n",
      "20011456.3.BUSINESS\n",
      "GOLDMAN SACHS BDC, INC.\n",
      "CODE OF BUSINESS CONDUCT AND ETHICS\n",
      "Preamble\n",
      "Pursuant to Section 406 of the Sarbanes-Oxley Act of 2002, the Securities and Exchange Commission (the\n",
      "“SEC”) has adopted rules requiring annual disclosure of an investment company’s code of ethics applicable\n",
      "to its principal executive, principal financial and principal accounting officers (the “Covered Officers”).\n",
      "Pursuant to Section 303A.10 of the NYSE Listed Company Manual, the New York Stock Exchange, LL...\n",
      "--------------------------------------------------------------------------------\n",
      "\n",
      "💡 AI Answer: The compliance policies for ethical trading at Goldman Sachs include:\n",
      "\n",
      "1. **Market Conduct Risk Management**: The firm has implemented policies and procedures to mitigate market conduct risks, such as conduct and supervision, confidentiality and communication, market manipulation, collusion, conflicts of interest, and inappropriate sales practices.\n",
      "2. **Firmwide Policy on Cooperation with the Firm**: Employees are expected to fully and honestly cooperate with the firm, its outside counsel, regulators, auditors, and other parties to uphold the firm's integrity and reputation.\n",
      "3. **Code of Business Conduct and Ethics**: The code promotes honest and ethical conduct, including the ethical handling of actual or apparent conflicts of interest between personal and professional relationships.\n",
      "4. **Compliance with applicable laws and regulations**: Employees are expected to comply with all applicable laws, rules, and regulations, including those related to trading and market conduct.\n",
      "5. **Internal reporting of violations**: Employees are required to report any potential violations of the code or compliance policies to the appropriate person or persons.\n",
      "6. **Accountability**: Managers and supervisors are responsible for promoting a culture of compliance and ethics within their teams and are held accountable for the actions of their team members.\n",
      "7. **Training and education**: The firm provides training and education to employees on compliance policies and procedures, including those related to ethical trading.\n",
      "8. **Monitoring and surveillance**: The firm has systems in place to monitor and surveil trading activity to detect and prevent unethical trading practices.\n",
      "9. **Disciplinary actions**: The firm will take disciplinary action, up to and including termination of employment, for violations of compliance policies and procedures.\n",
      "\n",
      "These policies and procedures are designed to promote a culture of compliance and ethics within the firm and to ensure that employees engage in ethical trading practices.\n"
     ]
    }
   ],
   "source": [
    "from sentence_transformers import CrossEncoder\n",
    "from langchain.chains.question_answering import load_qa_chain\n",
    "from langchain.schema import Document\n",
    "from typing import List\n",
    "\n",
    "# Step 1: Load Reranker Model\n",
    "reranker = CrossEncoder(\"cross-encoder/ms-marco-MiniLM-L-6-v2\")\n",
    "\n",
    "# Step 2: Function to Re-Rank Documents\n",
    "def rerank_documents(query: str, retrieved_docs: List[Document]) -> List[Document]:\n",
    "    \"\"\"Re-rank retrieved documents using a Cross-Encoder.\"\"\"\n",
    "    docs_texts = [doc.page_content for doc in retrieved_docs]\n",
    "    scores = reranker.predict([(query, doc) for doc in docs_texts])\n",
    "    \n",
    "    # Sort documents based on scores (highest first)\n",
    "    sorted_docs = [doc for _, doc in sorted(zip(scores, retrieved_docs), key=lambda x: x[0], reverse=True)]\n",
    "    return sorted_docs\n",
    "\n",
    "# Step 3: Query and Retrieve Documents (Initial Retrieval)\n",
    "query = \"What are the compliance policies for ethical trading?\"\n",
    "retrieved_docs = hybrid_retriever.get_relevant_documents(query)  # Assumes `retriever` is defined\n",
    "\n",
    "# Step 4: Re-Rank Retrieved Documents\n",
    "reranked_docs = rerank_documents(query, retrieved_docs)  # Apply reranking\n",
    "\n",
    "# Step 5: Initialize GPT-4 LLM\n",
    "\n",
    "# Step 6: Load QA Chain Without Using a Retriever\n",
    "qa_chain = load_qa_chain(llm, chain_type=\"stuff\")\n",
    "\n",
    "# Step 7: Generate Answer Using Only Reranked Documents\n",
    "final_answer = qa_chain.run(input_documents=reranked_docs, question=query)\n",
    "\n",
    "# Step 8: Print Results\n",
    "print(\"\\n🔹 Top Re-Ranked Documents:\\n\")\n",
    "for i, doc in enumerate(reranked_docs[:5]):  # Show top 5 results\n",
    "    print(f\"📜 Document {i+1}:\\n{doc.page_content[:500]}...\\n{'-'*80}\")\n",
    "\n",
    "print(\"\\n💡 AI Answer:\", final_answer)\n"
   ]
  },
  {
   "cell_type": "code",
   "execution_count": 77,
   "metadata": {},
   "outputs": [
    {
     "data": {
      "text/plain": [
       "\"The compliance policies for ethical trading at Goldman Sachs include:\\n\\n1. **Market Conduct Risk Management**: The firm has implemented policies and procedures to mitigate market conduct risks, such as conduct and supervision, confidentiality and communication, market manipulation, collusion, conflicts of interest, and inappropriate sales practices.\\n2. **Firmwide Policy on Cooperation with the Firm**: Employees are expected to fully and honestly cooperate with the firm, its outside counsel, regulators, auditors, and other parties to uphold the firm's integrity and reputation.\\n3. **Code of Business Conduct and Ethics**: The code promotes honest and ethical conduct, including the ethical handling of actual or apparent conflicts of interest between personal and professional relationships.\\n4. **Compliance with applicable laws and regulations**: Employees are expected to comply with all applicable laws, rules, and regulations, including those related to trading and market conduct.\\n5. **Internal reporting of violations**: Employees are required to report any potential violations of the code or compliance policies to the appropriate person or persons.\\n6. **Accountability**: Managers and supervisors are responsible for promoting a culture of compliance and ethics within their teams and are held accountable for the actions of their team members.\\n7. **Training and education**: The firm provides training and education to employees on compliance policies and procedures, including those related to ethical trading.\\n8. **Monitoring and surveillance**: The firm has systems in place to monitor and surveil trading activity to detect and prevent unethical trading practices.\\n9. **Disciplinary actions**: The firm will take disciplinary action, up to and including termination of employment, for violations of compliance policies and procedures.\\n\\nThese policies and procedures are designed to promote a culture of compliance and ethics within the firm and to ensure that employees engage in ethical trading practices.\""
      ]
     },
     "execution_count": 77,
     "metadata": {},
     "output_type": "execute_result"
    }
   ],
   "source": [
    "final_answer"
   ]
  },
  {
   "cell_type": "code",
   "execution_count": null,
   "metadata": {},
   "outputs": [],
   "source": []
  }
 ],
 "metadata": {
  "kernelspec": {
   "display_name": "venv",
   "language": "python",
   "name": "python3"
  },
  "language_info": {
   "codemirror_mode": {
    "name": "ipython",
    "version": 3
   },
   "file_extension": ".py",
   "mimetype": "text/x-python",
   "name": "python",
   "nbconvert_exporter": "python",
   "pygments_lexer": "ipython3",
   "version": "3.10.0"
  }
 },
 "nbformat": 4,
 "nbformat_minor": 2
}
